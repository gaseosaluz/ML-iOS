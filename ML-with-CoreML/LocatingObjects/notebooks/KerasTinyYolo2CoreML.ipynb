{
 "cells": [
  {
   "cell_type": "markdown",
   "metadata": {},
   "source": [
    "# Converting Tiny YOLO to CoreML\n",
    "\n",
    "This notebook takes care of converting a pretrained (in Keras) Tiny YOLO model to CoreML. The training from scratch is done in a separate project. Conversion of the pre-trained Keras model to CoreML can be easily done on a Mac, but the training from scratch of the YOLO model will need to be done in a GPU (NVIDIA) enabled workstation."
   ]
  },
  {
   "cell_type": "markdown",
   "metadata": {},
   "source": [
    "## References \n",
    "\n",
    "* Original implmentation https://pjreddie.com/darknet/yolov2/\n",
    "* Original Paper: YOLO9000: Better, Faster, Stronger https://arxiv.org/abs/1612.08242 "
   ]
  },
  {
   "cell_type": "markdown",
   "metadata": {},
   "source": [
    "## Installing\n",
    "\n",
    "Make sure that you have the appropriate environment setup. You can find a conda environment file in the `notebooks` directory. The file is `mlcml.yml`\n"
   ]
  },
  {
   "cell_type": "markdown",
   "metadata": {},
   "source": [
    "## Notes\n",
    "\n",
    "As of the writing of this notebook (Oct 2019) there are a lot of deprecation notices during the conversion process. This is probably related due to the fact that I am using newer versions of Keras and TensorFlow. For now I will ignore the depecration warnings (as long as the model converts of course)"
   ]
  },
  {
   "cell_type": "markdown",
   "metadata": {},
   "source": [
    "Dependencies"
   ]
  },
  {
   "cell_type": "code",
   "execution_count": 1,
   "metadata": {},
   "outputs": [
    {
     "name": "stderr",
     "output_type": "stream",
     "text": [
      "WARNING:root:TensorFlow version 1.14.0 detected. Last version known to be fully compatible is 1.13.1 .\n"
     ]
    }
   ],
   "source": [
    "import warnings\n",
    "with warnings.catch_warnings():\n",
    "    warnings.filterwarnings(\"ignore\", category=RuntimeWarning)\n",
    "    \n",
    "import coremltools"
   ]
  },
  {
   "cell_type": "markdown",
   "metadata": {},
   "source": [
    "Documentation on the use of CoreML Tools is here: https://pypi.org/project/coremltools/2.0/. Please refer to the documentation for an explanation of the parameters used in the converstion of the Keras model to CoreML"
   ]
  },
  {
   "cell_type": "code",
   "execution_count": 2,
   "metadata": {},
   "outputs": [
    {
     "name": "stdout",
     "output_type": "stream",
     "text": [
      "WARNING:tensorflow:From /Users/edm/miniconda3/envs/mlcml/lib/python3.6/site-packages/keras/backend/tensorflow_backend.py:517: The name tf.placeholder is deprecated. Please use tf.compat.v1.placeholder instead.\n",
      "\n"
     ]
    },
    {
     "name": "stderr",
     "output_type": "stream",
     "text": [
      "WARNING:tensorflow:From /Users/edm/miniconda3/envs/mlcml/lib/python3.6/site-packages/keras/backend/tensorflow_backend.py:517: The name tf.placeholder is deprecated. Please use tf.compat.v1.placeholder instead.\n",
      "\n"
     ]
    },
    {
     "name": "stdout",
     "output_type": "stream",
     "text": [
      "WARNING:tensorflow:From /Users/edm/miniconda3/envs/mlcml/lib/python3.6/site-packages/keras/backend/tensorflow_backend.py:4138: The name tf.random_uniform is deprecated. Please use tf.random.uniform instead.\n",
      "\n"
     ]
    },
    {
     "name": "stderr",
     "output_type": "stream",
     "text": [
      "WARNING:tensorflow:From /Users/edm/miniconda3/envs/mlcml/lib/python3.6/site-packages/keras/backend/tensorflow_backend.py:4138: The name tf.random_uniform is deprecated. Please use tf.random.uniform instead.\n",
      "\n"
     ]
    },
    {
     "name": "stdout",
     "output_type": "stream",
     "text": [
      "WARNING:tensorflow:From /Users/edm/miniconda3/envs/mlcml/lib/python3.6/site-packages/keras/backend/tensorflow_backend.py:245: The name tf.get_default_graph is deprecated. Please use tf.compat.v1.get_default_graph instead.\n",
      "\n"
     ]
    },
    {
     "name": "stderr",
     "output_type": "stream",
     "text": [
      "WARNING:tensorflow:From /Users/edm/miniconda3/envs/mlcml/lib/python3.6/site-packages/keras/backend/tensorflow_backend.py:245: The name tf.get_default_graph is deprecated. Please use tf.compat.v1.get_default_graph instead.\n",
      "\n"
     ]
    },
    {
     "name": "stdout",
     "output_type": "stream",
     "text": [
      "WARNING:tensorflow:From /Users/edm/miniconda3/envs/mlcml/lib/python3.6/site-packages/keras/backend/tensorflow_backend.py:174: The name tf.get_default_session is deprecated. Please use tf.compat.v1.get_default_session instead.\n",
      "\n"
     ]
    },
    {
     "name": "stderr",
     "output_type": "stream",
     "text": [
      "WARNING:tensorflow:From /Users/edm/miniconda3/envs/mlcml/lib/python3.6/site-packages/keras/backend/tensorflow_backend.py:174: The name tf.get_default_session is deprecated. Please use tf.compat.v1.get_default_session instead.\n",
      "\n"
     ]
    },
    {
     "name": "stdout",
     "output_type": "stream",
     "text": [
      "WARNING:tensorflow:From /Users/edm/miniconda3/envs/mlcml/lib/python3.6/site-packages/keras/backend/tensorflow_backend.py:181: The name tf.ConfigProto is deprecated. Please use tf.compat.v1.ConfigProto instead.\n",
      "\n"
     ]
    },
    {
     "name": "stderr",
     "output_type": "stream",
     "text": [
      "WARNING:tensorflow:From /Users/edm/miniconda3/envs/mlcml/lib/python3.6/site-packages/keras/backend/tensorflow_backend.py:181: The name tf.ConfigProto is deprecated. Please use tf.compat.v1.ConfigProto instead.\n",
      "\n"
     ]
    },
    {
     "name": "stdout",
     "output_type": "stream",
     "text": [
      "WARNING:tensorflow:From /Users/edm/miniconda3/envs/mlcml/lib/python3.6/site-packages/keras/backend/tensorflow_backend.py:1834: The name tf.nn.fused_batch_norm is deprecated. Please use tf.compat.v1.nn.fused_batch_norm instead.\n",
      "\n"
     ]
    },
    {
     "name": "stderr",
     "output_type": "stream",
     "text": [
      "WARNING:tensorflow:From /Users/edm/miniconda3/envs/mlcml/lib/python3.6/site-packages/keras/backend/tensorflow_backend.py:1834: The name tf.nn.fused_batch_norm is deprecated. Please use tf.compat.v1.nn.fused_batch_norm instead.\n",
      "\n"
     ]
    },
    {
     "name": "stdout",
     "output_type": "stream",
     "text": [
      "WARNING:tensorflow:From /Users/edm/miniconda3/envs/mlcml/lib/python3.6/site-packages/keras/backend/tensorflow_backend.py:3976: The name tf.nn.max_pool is deprecated. Please use tf.nn.max_pool2d instead.\n",
      "\n"
     ]
    },
    {
     "name": "stderr",
     "output_type": "stream",
     "text": [
      "WARNING:tensorflow:From /Users/edm/miniconda3/envs/mlcml/lib/python3.6/site-packages/keras/backend/tensorflow_backend.py:3976: The name tf.nn.max_pool is deprecated. Please use tf.nn.max_pool2d instead.\n",
      "\n",
      "/Users/edm/miniconda3/envs/mlcml/lib/python3.6/site-packages/keras/engine/saving.py:292: UserWarning: No training configuration found in save file: the model was *not* compiled. Compile it manually.\n",
      "  warnings.warn('No training configuration found in save file: '\n"
     ]
    },
    {
     "name": "stdout",
     "output_type": "stream",
     "text": [
      "0 : input_1, <keras.engine.input_layer.InputLayer object at 0x2e5d2ecc18>\n",
      "1 : conv2d_1, <keras.layers.convolutional.Conv2D object at 0x2e5d2ecc88>\n",
      "2 : batch_normalization_1, <keras.layers.normalization.BatchNormalization object at 0x2e5d384048>\n",
      "3 : leaky_re_lu_1, <keras.layers.advanced_activations.LeakyReLU object at 0x2e5d3842e8>\n",
      "4 : max_pooling2d_1, <keras.layers.pooling.MaxPooling2D object at 0x2e5d384320>\n",
      "5 : conv2d_2, <keras.layers.convolutional.Conv2D object at 0x2e5d3843c8>\n",
      "6 : batch_normalization_2, <keras.layers.normalization.BatchNormalization object at 0x2e5d384550>\n",
      "7 : leaky_re_lu_2, <keras.layers.advanced_activations.LeakyReLU object at 0x2e5d384668>\n",
      "8 : max_pooling2d_2, <keras.layers.pooling.MaxPooling2D object at 0x2e5d3846a0>\n",
      "9 : conv2d_3, <keras.layers.convolutional.Conv2D object at 0x2e5d384748>\n",
      "10 : batch_normalization_3, <keras.layers.normalization.BatchNormalization object at 0x2e5d3848d0>\n",
      "11 : leaky_re_lu_3, <keras.layers.advanced_activations.LeakyReLU object at 0x2e5d3849e8>\n",
      "12 : max_pooling2d_3, <keras.layers.pooling.MaxPooling2D object at 0x2e5d384a20>\n",
      "13 : conv2d_4, <keras.layers.convolutional.Conv2D object at 0x2e5d384ac8>\n",
      "14 : batch_normalization_4, <keras.layers.normalization.BatchNormalization object at 0x2e5d384c50>\n",
      "15 : leaky_re_lu_4, <keras.layers.advanced_activations.LeakyReLU object at 0x2e5d384d68>\n",
      "16 : max_pooling2d_4, <keras.layers.pooling.MaxPooling2D object at 0x2e5d384da0>\n",
      "17 : conv2d_5, <keras.layers.convolutional.Conv2D object at 0x2e5d384e48>\n",
      "18 : batch_normalization_5, <keras.layers.normalization.BatchNormalization object at 0x2e5d2ecef0>\n",
      "19 : leaky_re_lu_5, <keras.layers.advanced_activations.LeakyReLU object at 0x2e5d395128>\n",
      "20 : max_pooling2d_5, <keras.layers.pooling.MaxPooling2D object at 0x2e5d395160>\n",
      "21 : conv2d_6, <keras.layers.convolutional.Conv2D object at 0x2e5d395208>\n",
      "22 : batch_normalization_6, <keras.layers.normalization.BatchNormalization object at 0x2e5d395390>\n",
      "23 : leaky_re_lu_6, <keras.layers.advanced_activations.LeakyReLU object at 0x2e5d3954a8>\n",
      "24 : max_pooling2d_6, <keras.layers.pooling.MaxPooling2D object at 0x2e5d3954e0>\n",
      "25 : conv2d_7, <keras.layers.convolutional.Conv2D object at 0x2e5d395588>\n",
      "26 : batch_normalization_7, <keras.layers.normalization.BatchNormalization object at 0x2e5d395710>\n",
      "27 : leaky_re_lu_7, <keras.layers.advanced_activations.LeakyReLU object at 0x2e5d395828>\n",
      "28 : conv2d_8, <keras.layers.convolutional.Conv2D object at 0x2e5d395860>\n",
      "29 : batch_normalization_8, <keras.layers.normalization.BatchNormalization object at 0x2e5d3959e8>\n",
      "30 : leaky_re_lu_8, <keras.layers.advanced_activations.LeakyReLU object at 0x2e5d395b00>\n",
      "31 : conv2d_9, <keras.layers.convolutional.Conv2D object at 0x2e5d395b38>\n"
     ]
    }
   ],
   "source": [
    "coreml_model = coremltools.converters.keras.convert(\n",
    "    'tinyyolo_voc2007_modelweights.h5',\n",
    "    input_names='image',\n",
    "    image_input_names='image',\n",
    "    output_names='output',\n",
    "    image_scale=1./255.)"
   ]
  },
  {
   "cell_type": "markdown",
   "metadata": {},
   "source": [
    "Update the Model. We did this in our \"SID\" project."
   ]
  },
  {
   "cell_type": "code",
   "execution_count": 3,
   "metadata": {},
   "outputs": [],
   "source": [
    "coreml_model.author = 'Ed Martinez'\n",
    "coreml_model.license = 'BSD'\n",
    "coreml_model.short_description = 'YOLOTiny VOC2007 by Joseph Redmon and Ali Farhadi'\n",
    "coreml_model.input_description['image'] = '416x416 RGB Image'\n",
    "coreml_model.output_description['output'] = '13x13 Grid made up of: [confidence, cx, cy, w, h, 20 x classes] * 5 bounding boxes'"
   ]
  },
  {
   "cell_type": "markdown",
   "metadata": {},
   "source": [
    "Serialize the updated model to disk"
   ]
  },
  {
   "cell_type": "code",
   "execution_count": 4,
   "metadata": {},
   "outputs": [],
   "source": [
    "coreml_model.save('tinyyolo_voc2007.mlmodel')"
   ]
  },
  {
   "cell_type": "code",
   "execution_count": null,
   "metadata": {},
   "outputs": [],
   "source": []
  }
 ],
 "metadata": {
  "kernelspec": {
   "display_name": "Python 3",
   "language": "python",
   "name": "python3"
  },
  "language_info": {
   "codemirror_mode": {
    "name": "ipython",
    "version": 3
   },
   "file_extension": ".py",
   "mimetype": "text/x-python",
   "name": "python",
   "nbconvert_exporter": "python",
   "pygments_lexer": "ipython3",
   "version": "3.6.8"
  }
 },
 "nbformat": 4,
 "nbformat_minor": 2
}
